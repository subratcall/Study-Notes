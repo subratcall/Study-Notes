{
 "cells": [
  {
   "cell_type": "markdown",
   "metadata": {},
   "source": [
    "***Support Vector Machine (SVM)*** is a supervised machine learning algorithm which can be used for both classification or regression challenges. However,  it is mostly used in classification problems.\n",
    "\n",
    "Because there are many such linear hyperplanes, what SVM additionally guarantee is that the best such function is found by maximizing the margin between the two classes. \n",
    "\n",
    "Geometrically, the margin corresponds to the shortest distance between the closest data points to a point on the hyperplane. \n",
    "\n",
    "The reason why SVM insists on finding the maximum margin hyperplanes is that it offers the best generalization ability. \n",
    "\n",
    "One of the initial drawbacks of SVM is its computational inefficiency.  \n",
    "- One approach is to break a large optimization problem into a series of smaller problems, where each problem only involves a couple of carefully chosen variables so that the optimization can be done efficiently. The process iterates until all the decomposed optimization problems are solved successfully. \n",
    "- A more recent approach is to consider the problem of learning an SVM as that of finding an approximate minimum enclosing ball of a set of instances such as [core vector machine](http://citeseerx.ist.psu.edu/viewdoc/download?doi=10.1.1.445.4342&rep=rep1&type=pdf).\n",
    "\n",
    "In practice, real data is messy and cannot be separated perfectly with a hyperplane. The constraint of maximizing the margin of the line that separates the classes must be relaxed. This is often called the soft margin classifier. This change allows some points in the training data to violate the separating line. An additional set of coefficients are introduced that give the margin wiggle room in each dimension. These coefficients are sometimes called slack variables. This increases the complexity of the model as there are more parameters for the model to fit to the data to provide this complexity.\n",
    "\n",
    "**[Kernel trick](https://en.wikipedia.org/wiki/Kernel_method)**:\n",
    "- linear kernel\n",
    "- polynomial kernel\n",
    "- radial base function kernel\n",
    "- sigmoid\n",
    "\n",
    "\n",
    "The loss function is `Hinge loss` which is used for training classifiers. The hinge loss is used for \"maximum-margin\" classification, most notably for support vector machines (SVMs).\n",
    "\n",
    "![alt text](http://i.imgur.com/OzCwzyN.png \"hinge loss\")\n",
    "\n",
    "**Summary**:\n",
    "- Support Vector Machines are based on the concept of decision planes that define decision boundaries.\n",
    "- The Maximal-Margin Classifier that provides a simple theoretical model for understanding SVM.\n",
    "- The Soft Margin Classifier which is a modification of the Maximal-Margin Classifier to relax the margin to handle noisy class boundaries in real data.\n",
    "- Support Vector Machines and how the learning algorithm can be reformulated as a dot-product kernel and how other kernels like Polynomial and Radial can be used\n",
    "- Solving the drawback ,computation inefficiency, of SVM by two approaches."
   ]
  },
  {
   "cell_type": "code",
   "execution_count": 1,
   "metadata": {},
   "outputs": [
    {
     "data": {
      "text/plain": [
       "[<matplotlib.lines.Line2D at 0x10a01d160>]"
      ]
     },
     "execution_count": 1,
     "metadata": {},
     "output_type": "execute_result"
    },
    {
     "data": {
      "image/png": "[encoded data removed]",
      "text/plain": [
       "<Figure size 432x288 with 1 Axes>"
      ]
     },
     "metadata": {},
     "output_type": "display_data"
    }
   ],
   "source": [
    "import numpy as np\n",
    "import matplotlib.pyplot as plt\n",
    "%matplotlib inline\n",
    "\n",
    "# produce data\n",
    "X= np.array([[-2,4,-1],\n",
    "           [4,1,-1],\n",
    "           [1,6,-1],\n",
    "           [2,4,-1],\n",
    "           [6,2,-1]])\n",
    "\n",
    "y = np.array([-1,-1,1,1,1])\n",
    "\n",
    "for k,value in enumerate(X):\n",
    "    if k<2:\n",
    "        plt.scatter(value[0],value[1],s=120,marker='_',lw=2)\n",
    "    else:\n",
    "        plt.scatter(value[0],value[1],s=120,marker='+',lw=2)\n",
    "plt.plot([-2,6],[6,0.5])"
   ]
  },
  {
   "cell_type": "code",
   "execution_count": 2,
   "metadata": {},
   "outputs": [],
   "source": [
    "def svm_sgd_plot(X,y):\n",
    "    # initializw svm weight vector with zeros\n",
    "    w = np.zeros(len(X[0]))\n",
    "    \n",
    "    learning_rate = 1\n",
    "    \n",
    "    epochs = 10000\n",
    "    # store misclassification\n",
    "    errors = []\n",
    "    \n",
    "    for epoch in range(1,epochs):\n",
    "        error = 0\n",
    "        for i,x in enumerate(X):\n",
    "            if (y[i]*np.dot(X[i],w)) < 1:\n",
    "                w = w + learning_rate * ((X[i] * y[i]) + (-2 * (1/epoch) * w))\n",
    "                error = 1\n",
    "            else:\n",
    "                w = w + learning_rate * (-2 * (1/epoch) * w)\n",
    "        errors.append(error)\n",
    "        \n",
    "    plt.plot(errors, '|')\n",
    "    plt.ylim(0.5,1.5)\n",
    "    plt.axes().set_yticklabels([])\n",
    "    plt.xlabel('Epoch')\n",
    "    plt.ylabel('Misclassified')\n",
    "    plt.show()\n",
    "    \n",
    "    return w"
   ]
  },
  {
   "cell_type": "code",
   "execution_count": 3,
   "metadata": {},
   "outputs": [
    {
     "name": "stderr",
     "output_type": "stream",
     "text": [
      "/Users/quansun/anaconda3/lib/python3.6/site-packages/matplotlib/cbook/deprecation.py:107: MatplotlibDeprecationWarning: Adding an axes using the same arguments as a previous axes currently reuses the earlier instance.  In a future version, a new instance will always be created and returned.  Meanwhile, this warning can be suppressed, and the future behavior ensured, by passing a unique label to each axes instance.\n",
      "  warnings.warn(message, mplDeprecation, stacklevel=1)\n"
     ]
    },
    {
     "data": {
      "image/png": "[encoded data removed]",
      "text/plain": [
       "<Figure size 432x288 with 1 Axes>"
      ]
     },
     "metadata": {},
     "output_type": "display_data"
    }
   ],
   "source": [
    "w= svm_sgd_plot(X,y)"
   ]
  },
  {
   "cell_type": "code",
   "execution_count": 4,
   "metadata": {},
   "outputs": [
    {
     "data": {
      "text/plain": [
       "<matplotlib.quiver.Quiver at 0x1178dea20>"
      ]
     },
     "execution_count": 4,
     "metadata": {},
     "output_type": "execute_result"
    },
    {
     "data": {
      "image/png": "[encoded data removed]",
      "text/plain": [
       "<Figure size 432x288 with 1 Axes>"
      ]
     },
     "metadata": {},
     "output_type": "display_data"
    }
   ],
   "source": [
    "for k,value in enumerate(X):\n",
    "    if k<2:\n",
    "        plt.scatter(value[0],value[1],s=120,marker='_',lw=2)\n",
    "    else:\n",
    "        plt.scatter(value[0],value[1],s=120,marker='+',lw=2)\n",
    "\n",
    "# test samples\n",
    "plt.scatter(2,2,s=120,marker='_',lw=2,color='k')\n",
    "plt.scatter(4,3,s=120,marker='+',lw=2,color='b')\n",
    "\n",
    "# hyperplane\n",
    "x2 = [w[0],w[1],-w[1],w[0]]\n",
    "x3 = [w[0],w[1],w[1],-w[0]]\n",
    "\n",
    "x2x3 = np.array([x2,x3])\n",
    "X,Y,U,V = zip(*x2x3)\n",
    "ax = plt.gca()\n",
    "ax.quiver(X,Y,U,V,scale=1,color='blue')"
   ]
  },
  {
   "cell_type": "code",
   "execution_count": null,
   "metadata": {},
   "outputs": [],
   "source": []
  }
 ],
 "metadata": {
  "kernelspec": {
   "display_name": "Python 3",
   "language": "python",
   "name": "python3"
  },
  "language_info": {
   "codemirror_mode": {
    "name": "ipython",
    "version": 3
   },
   "file_extension": ".py",
   "mimetype": "text/x-python",
   "name": "python",
   "nbconvert_exporter": "python",
   "pygments_lexer": "ipython3",
   "version": "3.6.5"
  }
 },
 "nbformat": 4,
 "nbformat_minor": 2
}

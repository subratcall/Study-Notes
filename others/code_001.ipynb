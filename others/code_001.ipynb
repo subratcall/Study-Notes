{
 "cells": [
  {
   "cell_type": "markdown",
   "metadata": {},
   "source": [
    "**1.Bubble Sort**"
   ]
  },
  {
   "cell_type": "code",
   "execution_count": 1,
   "metadata": {},
   "outputs": [
    {
     "data": {
      "text/plain": [
       "[-58, 1, 3, 7, 10, 12, 23, 34, 56, 56, 100, 456]"
      ]
     },
     "execution_count": 1,
     "metadata": {},
     "output_type": "execute_result"
    }
   ],
   "source": [
    "List = [12,3,1,56,10,100,34,56,7,23,456,-58]\n",
    "\n",
    "def sort(List):\n",
    "    for i in range(len(List)-1):\n",
    "        for j in range(len(List)-1-i):\n",
    "            if List[j]>List[j+1]:\n",
    "                List[j],List[j+1] = List[j+1],List[j]\n",
    "    return List\n",
    "sort(List)"
   ]
  },
  {
   "cell_type": "markdown",
   "metadata": {},
   "source": [
    "**2.x power of n**"
   ]
  },
  {
   "cell_type": "code",
   "execution_count": 2,
   "metadata": {},
   "outputs": [
    {
     "data": {
      "text/plain": [
       "16"
      ]
     },
     "execution_count": 2,
     "metadata": {},
     "output_type": "execute_result"
    }
   ],
   "source": [
    "def power(x,n):\n",
    "    s = 1\n",
    "    while n>0:\n",
    "        n -= 1\n",
    "        s *= x\n",
    "    return s\n",
    "\n",
    "power(2,4)"
   ]
  },
  {
   "cell_type": "markdown",
   "metadata": {},
   "source": [
    "**3.Calculating(axa+bxb+..)**"
   ]
  },
  {
   "cell_type": "code",
   "execution_count": 3,
   "metadata": {},
   "outputs": [
    {
     "data": {
      "text/plain": [
       "30"
      ]
     },
     "execution_count": 3,
     "metadata": {},
     "output_type": "execute_result"
    }
   ],
   "source": [
    "def calc(*numbers):\n",
    "    sum=0\n",
    "    for n in numbers:\n",
    "        sum = sum + n*n\n",
    "    return sum\n",
    "\n",
    "calc(1,2,3,4)"
   ]
  },
  {
   "cell_type": "markdown",
   "metadata": {},
   "source": [
    "**4.Listing all files and dirs**"
   ]
  },
  {
   "cell_type": "code",
   "execution_count": 5,
   "metadata": {},
   "outputs": [
    {
     "data": {
      "text/plain": [
       "['code_001.ipynb', '.ipynb_checkpoints']"
      ]
     },
     "execution_count": 5,
     "metadata": {},
     "output_type": "execute_result"
    }
   ],
   "source": [
    "import os\n",
    "[d for d in os.listdir('.')]"
   ]
  },
  {
   "cell_type": "markdown",
   "metadata": {},
   "source": [
    "**5.Transfering lowercase and uppercase**"
   ]
  },
  {
   "cell_type": "code",
   "execution_count": 20,
   "metadata": {},
   "outputs": [
    {
     "name": "stdout",
     "output_type": "stream",
     "text": [
      "['hello', 'world', 'ibm', 'google', 'apple', 'microsoft']\n",
      "['HELLO', 'WORLD', 'IBM', 'GOOGLE', 'APPLE', 'MICROSOFT']\n",
      "['Hello', 'World', 'Ibm', 'Google', 'Apple', 'Microsoft']\n",
      "['Hello', 'World', 'Ibm', 'Google', 'Apple', 'Microsoft']\n"
     ]
    }
   ],
   "source": [
    "L = ['Hello','World','IBM','Google','Apple','Microsoft']\n",
    "a = [s.lower() for s in L]\n",
    "b = [s.upper() for s in L]\n",
    "c = [s.capitalize() for s in L]\n",
    "d = [s.title() for s in L]\n",
    "print(a)\n",
    "print(b)\n",
    "print(c)\n",
    "print(d)"
   ]
  },
  {
   "cell_type": "markdown",
   "metadata": {},
   "source": [
    "**6.Printing all files and path of files in the dir**"
   ]
  },
  {
   "cell_type": "code",
   "execution_count": 10,
   "metadata": {},
   "outputs": [
    {
     "name": "stdout",
     "output_type": "stream",
     "text": [
      "Please input a file path: ../\n",
      "../.DS_Store\n",
      "../Notes for Matplotlib\n",
      "../others\n",
      "../.ipynb_checkpoints\n",
      "../Notes_for_algorithm\n",
      "../Notes_for_publication\n"
     ]
    }
   ],
   "source": [
    "def print_dir():\n",
    "    filepath = input('Please input a file path: ')\n",
    "    if filepath == '':\n",
    "        print('You need enter a file path!')\n",
    "    else:\n",
    "        for i in os.listdir(filepath):\n",
    "            print(os.path.join(filepath,i))\n",
    "print_dir()"
   ]
  },
  {
   "cell_type": "markdown",
   "metadata": {},
   "source": [
    "**7.Printing all files in the dirs and files in the subdirs**"
   ]
  },
  {
   "cell_type": "code",
   "execution_count": 16,
   "metadata": {},
   "outputs": [
    {
     "name": "stdout",
     "output_type": "stream",
     "text": [
      "/Users/quansun/Study/Code/Notes-for-machine-learning/.DS_Store\n",
      "/Users/quansun/Study/Code/Notes-for-machine-learning/Notes for Matplotlib\n",
      "/Users/quansun/Study/Code/Notes-for-machine-learning/Notes for Matplotlib/Note_08.ipynb\n",
      "/Users/quansun/Study/Code/Notes-for-machine-learning/Notes for Matplotlib/sin(x)_and_cos(x).jpg\n",
      "/Users/quansun/Study/Code/Notes-for-machine-learning/Notes for Matplotlib/Note_09.ipynb\n",
      "/Users/quansun/Study/Code/Notes-for-machine-learning/Notes for Matplotlib/Note_10.ipynb\n",
      "/Users/quansun/Study/Code/Notes-for-machine-learning/Notes for Matplotlib/Note_03.ipynb\n",
      "/Users/quansun/Study/Code/Notes-for-machine-learning/Notes for Matplotlib/Note_01.ipynb\n",
      "/Users/quansun/Study/Code/Notes-for-machine-learning/Notes for Matplotlib/Note_05.ipynb\n",
      "/Users/quansun/Study/Code/Notes-for-machine-learning/Notes for Matplotlib/Note_07.ipynb\n",
      "/Users/quansun/Study/Code/Notes-for-machine-learning/Notes for Matplotlib/.ipynb_checkpoints\n",
      "/Users/quansun/Study/Code/Notes-for-machine-learning/Notes for Matplotlib/.ipynb_checkpoints/Note_03-checkpoint.ipynb\n",
      "/Users/quansun/Study/Code/Notes-for-machine-learning/Notes for Matplotlib/.ipynb_checkpoints/Note_08-checkpoint.ipynb\n",
      "/Users/quansun/Study/Code/Notes-for-machine-learning/Notes for Matplotlib/.ipynb_checkpoints/Note_07-checkpoint.ipynb\n",
      "/Users/quansun/Study/Code/Notes-for-machine-learning/Notes for Matplotlib/.ipynb_checkpoints/Note_02-checkpoint.ipynb\n",
      "/Users/quansun/Study/Code/Notes-for-machine-learning/Notes for Matplotlib/.ipynb_checkpoints/Note_09-checkpoint.ipynb\n",
      "/Users/quansun/Study/Code/Notes-for-machine-learning/Notes for Matplotlib/.ipynb_checkpoints/Note_06-checkpoint.ipynb\n",
      "/Users/quansun/Study/Code/Notes-for-machine-learning/Notes for Matplotlib/.ipynb_checkpoints/Note_01-checkpoint.ipynb\n",
      "/Users/quansun/Study/Code/Notes-for-machine-learning/Notes for Matplotlib/.ipynb_checkpoints/Note_05-checkpoint.ipynb\n",
      "/Users/quansun/Study/Code/Notes-for-machine-learning/Notes for Matplotlib/.ipynb_checkpoints/Note_04-checkpoint.ipynb\n",
      "/Users/quansun/Study/Code/Notes-for-machine-learning/Notes for Matplotlib/.ipynb_checkpoints/Note_10-checkpoint.ipynb\n",
      "/Users/quansun/Study/Code/Notes-for-machine-learning/Notes for Matplotlib/Note_02.ipynb\n",
      "/Users/quansun/Study/Code/Notes-for-machine-learning/Notes for Matplotlib/Note_06.ipynb\n",
      "/Users/quansun/Study/Code/Notes-for-machine-learning/Notes for Matplotlib/Note_04.ipynb\n",
      "/Users/quansun/Study/Code/Notes-for-machine-learning/others\n",
      "/Users/quansun/Study/Code/Notes-for-machine-learning/others/code_001.ipynb\n",
      "/Users/quansun/Study/Code/Notes-for-machine-learning/others/.ipynb_checkpoints\n",
      "/Users/quansun/Study/Code/Notes-for-machine-learning/others/.ipynb_checkpoints/code_001-checkpoint.ipynb\n",
      "/Users/quansun/Study/Code/Notes-for-machine-learning/.ipynb_checkpoints\n",
      "/Users/quansun/Study/Code/Notes-for-machine-learning/Notes_for_algorithm\n",
      "/Users/quansun/Study/Code/Notes-for-machine-learning/Notes_for_algorithm/K-Means.ipynb\n",
      "/Users/quansun/Study/Code/Notes-for-machine-learning/Notes_for_algorithm/.DS_Store\n",
      "/Users/quansun/Study/Code/Notes-for-machine-learning/Notes_for_algorithm/iris\n",
      "/Users/quansun/Study/Code/Notes-for-machine-learning/Notes_for_algorithm/iris/iris.names\n",
      "/Users/quansun/Study/Code/Notes-for-machine-learning/Notes_for_algorithm/iris/iris.data\n",
      "/Users/quansun/Study/Code/Notes-for-machine-learning/Notes_for_algorithm/images\n",
      "/Users/quansun/Study/Code/Notes-for-machine-learning/Notes_for_algorithm/images/svm.png\n",
      "/Users/quansun/Study/Code/Notes-for-machine-learning/Notes_for_algorithm/images/C4.5_graph.png\n",
      "/Users/quansun/Study/Code/Notes-for-machine-learning/Notes_for_algorithm/Source.gv.pdf\n",
      "/Users/quansun/Study/Code/Notes-for-machine-learning/Notes_for_algorithm/Source.gv\n",
      "/Users/quansun/Study/Code/Notes-for-machine-learning/Notes_for_algorithm/C4.5_graph.pdf\n",
      "/Users/quansun/Study/Code/Notes-for-machine-learning/Notes_for_algorithm/C4.5.ipynb\n",
      "/Users/quansun/Study/Code/Notes-for-machine-learning/Notes_for_algorithm/.ipynb_checkpoints\n",
      "/Users/quansun/Study/Code/Notes-for-machine-learning/Notes_for_algorithm/.ipynb_checkpoints/SVM-checkpoint.ipynb\n",
      "/Users/quansun/Study/Code/Notes-for-machine-learning/Notes_for_algorithm/.ipynb_checkpoints/C4.5-checkpoint.ipynb\n",
      "/Users/quansun/Study/Code/Notes-for-machine-learning/Notes_for_algorithm/.ipynb_checkpoints/RegressionTree-checkpoint.ipynb\n",
      "/Users/quansun/Study/Code/Notes-for-machine-learning/Notes_for_algorithm/.ipynb_checkpoints/K-Means-checkpoint.ipynb\n",
      "/Users/quansun/Study/Code/Notes-for-machine-learning/Notes_for_algorithm/RegressionTree.ipynb\n",
      "/Users/quansun/Study/Code/Notes-for-machine-learning/Notes_for_algorithm/kmeansdataset.txt\n",
      "/Users/quansun/Study/Code/Notes-for-machine-learning/Notes_for_algorithm/SVM.ipynb\n",
      "/Users/quansun/Study/Code/Notes-for-machine-learning/Notes_for_publication\n",
      "/Users/quansun/Study/Code/Notes-for-machine-learning/Notes_for_publication/Dropout is a special case of the stochastic delta rule- faster and more accurate deep learning.ipynb\n",
      "/Users/quansun/Study/Code/Notes-for-machine-learning/Notes_for_publication/.ipynb_checkpoints\n",
      "/Users/quansun/Study/Code/Notes-for-machine-learning/Notes_for_publication/.ipynb_checkpoints/Dropout is a special case of the stochastic delta rule- faster and more accurate deep learning-checkpoint.ipynb\n"
     ]
    }
   ],
   "source": [
    "def show_dir(filepath):\n",
    "    for i in os.listdir(filepath):\n",
    "        path = (os.path.join(filepath,i))\n",
    "        print(path)\n",
    "        if os.path.isdir(path):\n",
    "            show_dir(path)\n",
    "            \n",
    "show_dir(\"/Users/quansun/Study/Code/Notes-for-machine-learning\")"
   ]
  },
  {
   "cell_type": "markdown",
   "metadata": {},
   "source": [
    "**8.9 by 9 times table**"
   ]
  },
  {
   "cell_type": "code",
   "execution_count": 19,
   "metadata": {},
   "outputs": [
    {
     "name": "stdout",
     "output_type": "stream",
     "text": [
      "1x1=1\t 1x2=2\t 2x2=4\t 1x3=3\t 2x3=6\t 3x3=9\t 1x4=4\t 2x4=8\t 3x4=12\t 4x4=16\t 1x5=5\t 2x5=10\t 3x5=15\t 4x5=20\t 5x5=25\t 1x6=6\t 2x6=12\t 3x6=18\t 4x6=24\t 5x6=30\t 6x6=36\t 1x7=7\t 2x7=14\t 3x7=21\t 4x7=28\t 5x7=35\t 6x7=42\t 7x7=49\t 1x8=8\t 2x8=16\t 3x8=24\t 4x8=32\t 5x8=40\t 6x8=48\t 7x8=56\t 8x8=64\t 1x9=9\t 2x9=18\t 3x9=27\t 4x9=36\t 5x9=45\t 6x9=54\t 7x9=63\t 8x9=72\t 9x9=81\t "
     ]
    }
   ],
   "source": [
    "for i in range(1,10):\n",
    "    for j in range(1,i+1):\n",
    "        print('{}x{}={}\\t'.format(j,i,i*j),end=' ')"
   ]
  },
  {
   "cell_type": "markdown",
   "metadata": {},
   "source": [
    "**9.date**"
   ]
  },
  {
   "cell_type": "code",
   "execution_count": 21,
   "metadata": {},
   "outputs": [
    {
     "data": {
      "text/plain": [
       "datetime.date(2019, 1, 5)"
      ]
     },
     "execution_count": 21,
     "metadata": {},
     "output_type": "execute_result"
    }
   ],
   "source": [
    "import datetime\n",
    "def yesterday():\n",
    "    today = datetime.date.today()\n",
    "    oneday = datetime.timedelta(days=1)\n",
    "    yesterday = today - oneday\n",
    "    return yesterday\n",
    "yesterday()"
   ]
  },
  {
   "cell_type": "code",
   "execution_count": null,
   "metadata": {},
   "outputs": [],
   "source": []
  }
 ],
 "metadata": {
  "kernelspec": {
   "display_name": "Python 3",
   "language": "python",
   "name": "python3"
  },
  "language_info": {
   "codemirror_mode": {
    "name": "ipython",
    "version": 3
   },
   "file_extension": ".py",
   "mimetype": "text/x-python",
   "name": "python",
   "nbconvert_exporter": "python",
   "pygments_lexer": "ipython3",
   "version": "3.6.5"
  }
 },
 "nbformat": 4,
 "nbformat_minor": 2
}
